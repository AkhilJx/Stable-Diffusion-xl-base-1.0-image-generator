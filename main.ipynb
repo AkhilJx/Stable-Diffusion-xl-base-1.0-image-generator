{
 "cells": [
  {
   "cell_type": "code",
   "execution_count": null,
   "id": "1470195e-ea1b-47db-a331-222ee0622be9",
   "metadata": {},
   "outputs": [],
   "source": [
    "import sys\n",
    "!{sys.executable} -m pip install diffusers --upgrade\n"
   ]
  },
  {
   "cell_type": "code",
   "execution_count": null,
   "id": "dad8d11c-0914-4c2c-8377-c00ce3445e61",
   "metadata": {},
   "outputs": [],
   "source": [
    "!{sys.executable} -m pip install invisible_watermark transformers accelerate safetensors\n"
   ]
  },
  {
   "cell_type": "code",
   "execution_count": null,
   "id": "cb759d27-49d1-4503-89ef-7d3b715cbbac",
   "metadata": {},
   "outputs": [],
   "source": [
    "# huggingface-cli download stabilityai/stable-diffusion-xl-base-1.0 --revision main\n"
   ]
  },
  {
   "cell_type": "code",
   "execution_count": null,
   "id": "46e502ef-05e5-4ca2-ac7f-6f72a869a746",
   "metadata": {},
   "outputs": [],
   "source": [
    "from diffusers import DiffusionPipeline\n",
    "import torch\n",
    "\n",
    "# Load the model for CPU\n",
    "pipe = DiffusionPipeline.from_pretrained(\n",
    "    \"stabilityai/stable-diffusion-xl-base-1.0\", \n",
    "    torch_dtype=torch.float32,  # Use float32 for CPU\n",
    "    use_safetensors=False       # Optional: disable safetensors if not needed\n",
    ")\n",
    "\n",
    "# Remove the .to(\"cuda\") call, model will run on CPU by default\n",
    "# pipe.to(\"cpu\")  # Optional: explicitly move model to CPU if needed\n",
    "\n",
    "# Define the prompt\n",
    "# prompt = \"An astronaut riding a green horse\"\n",
    "prompt = \"A Dog in space wearing a cooling glass\"\n",
    "\n",
    "# Generate the image\n",
    "images = pipe(prompt=prompt).images[0]\n",
    "\n",
    "# Display or save the generated image\n",
    "images.show()  # You can use .save(\"output.png\") to save the image\n",
    "images.save(\"output.png\")"
   ]
  },
  {
   "cell_type": "code",
   "execution_count": null,
   "id": "1509700e-c405-42e0-a3cc-302eea3461c0",
   "metadata": {},
   "outputs": [],
   "source": [
    "from diffusers import DiffusionPipeline\n",
    "import torch\n",
    "\n",
    "# Load the model for CPU\n",
    "pipe = DiffusionPipeline.from_pretrained(\n",
    "    \"stabilityai/stable-diffusion-xl-base-1.0\", \n",
    "    torch_dtype=torch.float32,  # Use float32 for CPU\n",
    "    use_safetensors=False       # Optional: disable safetensors if not needed\n",
    ")\n",
    "\n",
    "# Remove the .to(\"cuda\") call, model will run on CPU by default\n",
    "# pipe.to(\"cpu\")  # Optional: explicitly move model to CPU if needed\n",
    "\n",
    "# Define the prompt\n",
    "prompt = \"An astronaut riding a green horse\"\n",
    "\n",
    "\n",
    "# Generate the image\n",
    "images = pipe(prompt=prompt).images[0]\n",
    "\n",
    "# Display or save the generated image\n",
    "images.show()  # You can use .save(\"output.png\") to save the image\n",
    "images.save(\"output2.png\")"
   ]
  },
  {
   "cell_type": "code",
   "execution_count": null,
   "id": "741deb16-53f8-4eea-bd23-ec35591d822a",
   "metadata": {},
   "outputs": [],
   "source": []
  }
 ],
 "metadata": {
  "kernelspec": {
   "display_name": "Python 3",
   "language": "python",
   "name": "python3"
  },
  "language_info": {
   "codemirror_mode": {
    "name": "ipython",
    "version": 3
   },
   "file_extension": ".py",
   "mimetype": "text/x-python",
   "name": "python",
   "nbconvert_exporter": "python",
   "pygments_lexer": "ipython3",
   "version": "3.11.8"
  }
 },
 "nbformat": 4,
 "nbformat_minor": 5
}
